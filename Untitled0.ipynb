{
  "nbformat": 4,
  "nbformat_minor": 0,
  "metadata": {
    "colab": {
      "provenance": [],
      "authorship_tag": "ABX9TyPmO2zNqNEUJjuF6eMWsm3e",
      "include_colab_link": true
    },
    "kernelspec": {
      "name": "python3",
      "display_name": "Python 3"
    },
    "language_info": {
      "name": "python"
    }
  },
  "cells": [
    {
      "cell_type": "markdown",
      "metadata": {
        "id": "view-in-github",
        "colab_type": "text"
      },
      "source": [
        "<a href=\"https://colab.research.google.com/github/JuanCordobach/Reto-11/blob/main/Untitled0.ipynb\" target=\"_parent\"><img src=\"https://colab.research.google.com/assets/colab-badge.svg\" alt=\"Open In Colab\"/></a>"
      ]
    },
    {
      "cell_type": "markdown",
      "source": [
        "Punto 2"
      ],
      "metadata": {
        "id": "2YPFeCYa6lAT"
      }
    },
    {
      "cell_type": "code",
      "execution_count": 3,
      "metadata": {
        "colab": {
          "base_uri": "https://localhost:8080/"
        },
        "id": "OdnUTHfx4nJw",
        "outputId": "fe165c11-af37-4540-f88a-a28f32f739cc"
      },
      "outputs": [
        {
          "output_type": "stream",
          "name": "stdout",
          "text": [
            "Cantidad de vocales: 1597835\n",
            "Cantidad de consonantes: 2612121\n",
            "Las 50 palabras más comunes son:\n",
            "2007: 22447\n",
            "from: 21720\n",
            "by: 18028\n",
            "received: 16176\n",
            "with: 12757\n",
            "id: 12607\n",
            "0500: 11774\n",
            "nakamurauitsiupuiedu: 10774\n",
            "dec: 9267\n",
            "nov: 8988\n",
            "sourcecollabsakaiprojectorg: 8985\n",
            "for: 7715\n",
            "esmtp: 7188\n",
            "paploouhiacuk: 7188\n",
            "textplain: 5391\n",
            "charsetutf8: 5391\n",
            "gmt: 4941\n",
            "0000: 4932\n",
            "thu: 4764\n",
            "to: 4566\n",
            "tue: 4498\n",
            "oct: 4164\n",
            "fri: 4007\n",
            "mon: 3685\n",
            "you: 3621\n",
            "date: 3612\n",
            "sakai: 3607\n",
            "murder: 3594\n",
            "mailumichedu: 3594\n",
            "cyrus: 3594\n",
            "lmtpa: 3594\n",
            "localhost: 3594\n",
            "127001: 3594\n",
            "postfix: 3594\n",
            "smtp: 3594\n",
            "wed: 3518\n",
            "0400: 2910\n",
            "the: 2544\n",
            "svn: 2537\n",
            "23: 2169\n",
            "10: 2145\n",
            "log: 2100\n",
            "site: 1887\n",
            "modify: 1884\n",
            "this: 1882\n",
            "new: 1879\n",
            "message: 1842\n",
            "was: 1835\n",
            "29: 1834\n",
            "revision: 1833\n"
          ]
        }
      ],
      "source": [
        "import requests\n",
        "import re\n",
        "\n",
        "# Descarga el contenido desde la URL y maneja posibles errores\n",
        "def obtener_contenido(url):\n",
        "    try:\n",
        "        respuesta = requests.get(url, timeout=10)\n",
        "        respuesta.raise_for_status()  # Verifica si la respuesta es exitosa\n",
        "        respuesta.encoding = 'utf-8'  # Asegurar codificación UTF-8\n",
        "        return respuesta.text\n",
        "    except requests.RequestException as error:\n",
        "        print(f\"Error al obtener el contenido: {error}\")\n",
        "        return \"\"\n",
        "\n",
        "# Cuenta el número de vocales en un texto\n",
        "def contar_vocales(texto):\n",
        "    vocales = 'aeiouAEIOUáéíóúÁÉÍÓÚüÜ'\n",
        "    return sum(1 for caracter in texto if caracter in vocales)\n",
        "\n",
        "# Cuenta el número de consonantes en un texto\n",
        "def contar_consonantes(texto):\n",
        "    consonantes = 'bcdfghjklmnpqrstvwxyzBCDFGHJKLMNPQRSTVWXYZ'\n",
        "    return sum(1 for caracter in texto if caracter in consonantes)\n",
        "\n",
        "# Identifica las palabras más repetidas en un texto\n",
        "def palabras_mas_comunes(texto, cantidad=50):\n",
        "    palabras = texto.lower().split()\n",
        "    frecuencia = {}\n",
        "\n",
        "    for palabra in palabras:\n",
        "        palabra_filtrada = re.sub(r'\\W+', '', palabra)  # Eliminar signos de puntuación\n",
        "        if palabra_filtrada:\n",
        "            frecuencia[palabra_filtrada] = frecuencia.get(palabra_filtrada, 0) + 1\n",
        "\n",
        "    palabras_ordenadas = sorted(frecuencia.items(), key=lambda x: x[1], reverse=True)\n",
        "    return palabras_ordenadas[:cantidad]\n",
        "\n",
        "# Analiza el contenido descargado y obtiene estadísticas\n",
        "def procesar_texto(url):\n",
        "    contenido = obtener_contenido(url)\n",
        "    if not contenido:\n",
        "        return None  # Retorna None si hay problemas con la descarga\n",
        "\n",
        "    total_vocales = contar_vocales(contenido)\n",
        "    total_consonantes = contar_consonantes(contenido)\n",
        "    palabras_comunes = palabras_mas_comunes(contenido)\n",
        "\n",
        "    return {\n",
        "        \"vocales\": total_vocales,\n",
        "        \"consonantes\": total_consonantes,\n",
        "        \"palabras_frecuentes\": palabras_comunes\n",
        "    }\n",
        "\n",
        "# Ejecutar el análisis con la URL dada\n",
        "url = 'https://www.py4e.com/code3/mbox.txt'\n",
        "resultado = procesar_texto(url)\n",
        "\n",
        "if resultado:\n",
        "    print(f'Cantidad de vocales: {resultado[\"vocales\"]}')\n",
        "    print(f'Cantidad de consonantes: {resultado[\"consonantes\"]}')\n",
        "    print('Las 50 palabras más comunes son:')\n",
        "    for palabra, frecuencia in resultado[\"palabras_frecuentes\"]:\n",
        "        print(f'{palabra}: {frecuencia}')\n"
      ]
    }
  ]
}